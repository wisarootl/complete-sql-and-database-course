{
 "cells": [
  {
   "cell_type": "code",
   "execution_count": null,
   "metadata": {},
   "outputs": [],
   "source": [
    "raise\n",
    "\n",
    "# this note book cannot be run"
   ]
  },
  {
   "cell_type": "markdown",
   "metadata": {},
   "source": [
    "```cli\n",
    "psql -U postgres\n",
    "```\n",
    "\n",
    "```cli\n",
    "postgres=# CREATE DATABASE ztm;\n",
    "postgres=# exit\n",
    "```\n",
    "\n",
    "```cli\n",
    "psql -U postgres ztm\n",
    "ztm=# \\conninfo\n",
    "```\n",
    "\n",
    "output\n",
    "```\n",
    "You are connected to database \"ztm\" as user \"postgres\" on host \"localhost\" (address \"::1\") at port \"5432\".\n",
    "```\n",
    "\n",
    "```cli\n",
    "ztm=# CREATE EXTENSION IF NOT EXISTS \"UUID-OSSP\";\n",
    "```"
   ]
  },
  {
   "cell_type": "code",
   "execution_count": null,
   "metadata": {
    "vscode": {
     "languageId": "sql"
    }
   },
   "outputs": [],
   "source": [
    "CREATE TABLE student (\n",
    "  student_id UUID PRIMARY KEY DEFAULT uuid_generate_v4(),\n",
    "  first_name VARCHAR(255) NOT NULL,\n",
    "  last_name VARCHAR(255) NOT NULL,\n",
    "  email VARCHAR(255) NOT NULL,\n",
    "  date_of_birth DATE NOT NULL \n",
    ");"
   ]
  },
  {
   "cell_type": "markdown",
   "metadata": {},
   "source": [
    "```\n",
    "ztm=# \\dt\n",
    "```\n",
    "\n",
    "output\n",
    "```\n",
    "          List of relations\n",
    " Schema |  Name   | Type  |  Owner\n",
    "--------+---------+-------+----------\n",
    " public | student | table | postgres\n",
    "(1 row)\n",
    "```"
   ]
  },
  {
   "cell_type": "markdown",
   "metadata": {},
   "source": [
    "```\n",
    "ztm=# \\d student\n",
    "```\n",
    "\n",
    "output\n",
    "```\n",
    "                               Table \"public.student\"\n",
    "    Column     |          Type          | Collation | Nullable |      Default\n",
    "---------------+------------------------+-----------+----------+--------------------\n",
    " strudent_id   | uuid                   |           | not null | uuid_generate_v4()\n",
    " first_name    | character varying(255) |           | not null |\n",
    " last_name     | character varying(255) |           | not null |\n",
    " email         | character varying(255) |           | not null |\n",
    " date_of_birth | date                   |           | not null |\n",
    "Indexes:\n",
    "    \"student_pkey\" PRIMARY KEY, btree (strudent_id)\n",
    "```"
   ]
  },
  {
   "cell_type": "markdown",
   "metadata": {},
   "source": [
    "<img src=\"./assets/07-01-entity-relationship.png\" />"
   ]
  },
  {
   "cell_type": "code",
   "execution_count": null,
   "metadata": {
    "vscode": {
     "languageId": "sql"
    }
   },
   "outputs": [],
   "source": [
    "-- custom data types\n",
    "\n",
    "CREATE DOMAIN Rating SMALLINT\n",
    "    CHECK (VALUE > 0 AND VALUE <= 5);\n",
    "\n",
    "CREATE TYPE Feedback AS (\n",
    "    student_id UUID,\n",
    "    rating Rating,\n",
    "    feedback TEXT\n",
    ");"
   ]
  },
  {
   "cell_type": "code",
   "execution_count": null,
   "metadata": {
    "vscode": {
     "languageId": "sql"
    }
   },
   "outputs": [],
   "source": [
    "CREATE TABLE subject (\n",
    "  subject_id UUID PRIMARY KEY DEFAULT uuid_generate_v4(),\n",
    "  subject TEXT NOT NULL,\n",
    "  description TEXT\n",
    ");"
   ]
  },
  {
   "cell_type": "code",
   "execution_count": null,
   "metadata": {
    "vscode": {
     "languageId": "sql"
    }
   },
   "outputs": [],
   "source": [
    "CREATE TABLE teacher (\n",
    "  teacher_id UUID PRIMARY KEY DEFAULT uuid_generate_v4(),\n",
    "  first_name VARCHAR(255) NOT NULL,\n",
    "  last_name VARCHAR(255) NOT NULL,\n",
    "  email TEXT,\n",
    "  date_of_birth DATE NOT NULL \n",
    ");"
   ]
  },
  {
   "cell_type": "code",
   "execution_count": null,
   "metadata": {
    "vscode": {
     "languageId": "sql"
    }
   },
   "outputs": [],
   "source": [
    "ALTER TABLE student\n",
    "ADD COLUMN email TEXT;"
   ]
  },
  {
   "cell_type": "code",
   "execution_count": null,
   "metadata": {
    "vscode": {
     "languageId": "sql"
    }
   },
   "outputs": [],
   "source": [
    "-- name is duplitcate with SQL keyword (syntax). So, we put in \"name\"\n",
    "\n",
    "CREATE TABLE course (\n",
    "  course_id UUID PRIMARY KEY DEFAULT uuid_generate_v4(),\n",
    "  \"name\" TEXT NOT NULL,\n",
    "  description TEXT,\n",
    "  subject_id UUID REFERENCES subject(subject_id),\n",
    "  teacher_id UUID REFERENCES teacher(teacher_id),\n",
    "  feedback feedback[]\n",
    ");"
   ]
  },
  {
   "cell_type": "code",
   "execution_count": null,
   "metadata": {
    "vscode": {
     "languageId": "sql"
    }
   },
   "outputs": [],
   "source": [
    "CREATE TABLE enrollment (\n",
    "  course_id UUID REFERENCES course(course_id),\n",
    "  student_id UUID REFERENCES student(student_id),\n",
    "  enrollment_date DATE NOT NULL,\n",
    "  CONSTRAINT pk_emrollment PRIMARY KEY (course_id, student_id)\n",
    ");"
   ]
  },
  {
   "cell_type": "markdown",
   "metadata": {},
   "source": [
    "## Adding data"
   ]
  },
  {
   "cell_type": "code",
   "execution_count": null,
   "metadata": {
    "vscode": {
     "languageId": "sql"
    }
   },
   "outputs": [],
   "source": [
    "INSERT INTO student(\n",
    "  first_name,\n",
    "  last_name,\n",
    "  email,\n",
    "  date_of_birth\n",
    ") VALUES (\n",
    "  'Mo',\n",
    "  'Binni',\n",
    "  'mo@binni.io',\n",
    "  '1992-11-13'::DATE\n",
    ");"
   ]
  },
  {
   "cell_type": "code",
   "execution_count": null,
   "metadata": {
    "vscode": {
     "languageId": "sql"
    }
   },
   "outputs": [],
   "source": [
    "INSERT INTO teacher(\n",
    "  first_name,\n",
    "  last_name,\n",
    "  email,\n",
    "  date_of_birth\n",
    ") VALUES (\n",
    "  'Mo',\n",
    "  'Binni',\n",
    "  'mo@binni.io',\n",
    "  '1992-11-13'::DATE\n",
    ");"
   ]
  },
  {
   "cell_type": "code",
   "execution_count": null,
   "metadata": {
    "vscode": {
     "languageId": "sql"
    }
   },
   "outputs": [],
   "source": [
    "INSERT INTO subject (\n",
    "  subject,\n",
    "  description\n",
    ") VALUES (\n",
    "  'SQL Zero to Mastery',\n",
    "  'The art of SQL Mastery'\n",
    ");\n",
    "\n",
    "DELETE FROM subject WHERE subject = 'SQL Zero to Mastery';"
   ]
  },
  {
   "cell_type": "code",
   "execution_count": null,
   "metadata": {
    "vscode": {
     "languageId": "sql"
    }
   },
   "outputs": [],
   "source": [
    "INSERT INTO course (\n",
    "  \"name\",\n",
    "  description\n",
    ") VALUES (\n",
    "  'SQL Zero to Master',\n",
    "  'The #1 resource for SQL mastery'\n",
    ");"
   ]
  },
  {
   "cell_type": "code",
   "execution_count": null,
   "metadata": {
    "vscode": {
     "languageId": "sql"
    }
   },
   "outputs": [],
   "source": [
    "UPDATE course\n",
    "SET subject_id = 'cefa2138-12ef-427c-babc-c51e51b9af68'\n",
    "WHERE subject_id IS NULL;"
   ]
  },
  {
   "cell_type": "code",
   "execution_count": null,
   "metadata": {
    "vscode": {
     "languageId": "sql"
    }
   },
   "outputs": [],
   "source": [
    "ALTER TABLE course ALTER COLUMN subject_id SET NOT NULL;"
   ]
  },
  {
   "cell_type": "code",
   "execution_count": null,
   "metadata": {
    "vscode": {
     "languageId": "sql"
    }
   },
   "outputs": [],
   "source": [
    "UPDATE course\n",
    "SET teacher_id = '023e8e9c-0744-4fe5-a613-0b3da36a1fbc'\n",
    "WHERE teacher_id IS NULL;"
   ]
  },
  {
   "cell_type": "code",
   "execution_count": null,
   "metadata": {
    "vscode": {
     "languageId": "sql"
    }
   },
   "outputs": [],
   "source": [
    "ALTER TABLE course ALTER COLUMN teacher_id SET NOT NULL;"
   ]
  },
  {
   "cell_type": "code",
   "execution_count": null,
   "metadata": {
    "vscode": {
     "languageId": "sql"
    }
   },
   "outputs": [],
   "source": [
    "INSERT INTO enrollment (student_id, course_id, enrollment_date) VALUES (\n",
    "  '467ddbcc-afbc-43a4-9f94-b3b07c33b713',\n",
    "  'ecd2333c-7d15-4466-8ca3-9bce61f40326',\n",
    "  NOW()::DATE\n",
    ");"
   ]
  },
  {
   "cell_type": "code",
   "execution_count": null,
   "metadata": {
    "vscode": {
     "languageId": "sql"
    }
   },
   "outputs": [],
   "source": [
    "UPDATE course\n",
    "SET feedback = array_append(\n",
    "  feedback,\n",
    "  ROW(\n",
    "    '467ddbcc-afbc-43a4-9f94-b3b07c33b713',\n",
    "    5,\n",
    "    'Great course!'\n",
    "  )::feedback\n",
    ")\n",
    "WHERE course_id = 'ecd2333c-7d15-4466-8ca3-9bce61f40326'"
   ]
  },
  {
   "cell_type": "markdown",
   "metadata": {},
   "source": [
    "<img src=\"./assets/07-03-er-final.png\" />"
   ]
  },
  {
   "cell_type": "code",
   "execution_count": null,
   "metadata": {
    "vscode": {
     "languageId": "sql"
    }
   },
   "outputs": [],
   "source": [
    "CREATE TABLE feedback (\n",
    "  student_id UUID NOT NULL REFERENCES student(student_id),\n",
    "  course_id UUID NOT NULL REFERENCES course(course_id),\n",
    "  feedback TEXT,\n",
    "  rating rating,\n",
    "  CONSTRAINT pk_feedback PRIMARY KEY (student_id, course_id)\n",
    ");"
   ]
  },
  {
   "cell_type": "code",
   "execution_count": null,
   "metadata": {
    "vscode": {
     "languageId": "sql"
    }
   },
   "outputs": [],
   "source": [
    "INSERT INTO feedback (\n",
    "  student_id, course_id, feedback, rating\n",
    ") VALUES (\n",
    "  '467ddbcc-afbc-43a4-9f94-b3b07c33b713', \n",
    "  'ecd2333c-7d15-4466-8ca3-9bce61f40326',\n",
    "  'Well, this was great!',\n",
    "  5\n",
    ");"
   ]
  }
 ],
 "metadata": {
  "kernelspec": {
   "display_name": "Python 3.10.4 64-bit",
   "language": "python",
   "name": "python3"
  },
  "language_info": {
   "name": "python",
   "version": "3.10.4"
  },
  "orig_nbformat": 4,
  "vscode": {
   "interpreter": {
    "hash": "20ac7aad763b689ebdaff2f53a3073c7ed55a0f51860968fbf5603f714378c4e"
   }
  }
 },
 "nbformat": 4,
 "nbformat_minor": 2
}
